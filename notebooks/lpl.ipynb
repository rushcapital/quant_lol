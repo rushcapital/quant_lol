{
 "cells": [
  {
   "cell_type": "code",
   "execution_count": null,
   "metadata": {},
   "outputs": [],
   "source": [
    "import sys\n",
    "sys.path.append('../scripts')\n",
    "from lolesports_api import Lolesports_API\n",
    "\n",
    "api = Lolesports_API()\n",
    "\n",
    "def get_lpl_past_games(api):\n",
    "\n",
    "    LPL_ID = [league['id'] for league in api.get_leagues()['leagues'] if league['name'] == 'LPL'].pop()\n",
    "    LPL_SCHEDULE = api.get_schedule(league_id=LPL_ID)\n",
    "    # print(LPL_SCHEDULE)\n",
    "    print(api.get_games(match_id='108431300957905387'))\n",
    "\n",
    "get_lpl_past_games(api)"
   ]
  },
  {
   "cell_type": "code",
   "execution_count": null,
   "metadata": {},
   "outputs": [],
   "source": [
    "import requests\n",
    "from selenium import webdriver\n",
    "import pyautogui\n",
    "from PIL import Image\n",
    "import time\n",
    "\n",
    "HEADERS = {'User-Agent': 'Mozilla/5.0 (Macintosh; Intel Mac OS X 10_11_6) AppleWebKit/537.36 (KHTML, like Gecko) Chrome/61.0.3163.100 Safari/537.36'}\n",
    "\n",
    "driver = webdriver.Chrome(executable_path='../drivers/chromedriver.exe')\n",
    "width, height = 1024,1024\n",
    "driver.set_window_position(0,0)\n",
    "driver.set_window_size(width, height)\n",
    "\n",
    "driver.get('https://app.prizepicks.com/')\n",
    "pyautogui.moveTo(width*0.5, height*0.79)\n",
    "pyautogui.click()\n",
    "pyautogui.moveTo(width*0.125, height*0.225)\n",
    "time.sleep(1)\n",
    "pyautogui.click()\n",
    "time.sleep(1)\n",
    "\n",
    "# secure initial screenshot\n",
    "driver.save_screenshot('../images/initial_state.png')\n",
    "# screenshot = Image.open('../images/current_state.png')\n",
    "\n",
    "while True:\n",
    "    try:\n",
    "        time.sleep(10)\n",
    "        driver.refresh()\n",
    "        time.sleep(2)\n",
    "        pyautogui.click()\n",
    "        time.sleep(1)\n",
    "        driver.save_screenshot('../images/current_state.png')\n",
    "        screenshot = Image.open('../images/current_state.png')\n",
    "        screenshot.show()\n",
    "    except KeyboardInterrupt:\n",
    "        driver.close()\n"
   ]
  },
  {
   "cell_type": "code",
   "execution_count": 4,
   "metadata": {},
   "outputs": [
    {
     "name": "stdout",
     "output_type": "stream",
     "text": [
      "differences stored in diff.png\n"
     ]
    }
   ],
   "source": [
    "# check if images are exactly the same or changing.\n",
    "import cv2\n",
    "import numpy as np\n",
    "\n",
    "a = cv2.imread('../images/initial_state.png')\n",
    "b = cv2.imread('../images/current_state_0.png')\n",
    "\n",
    "diff = cv2.subtract(a,b)\n",
    "res = not np.any(diff)\n",
    "if res:\n",
    "    print(\"pictures are the same.\")\n",
    "else:\n",
    "    cv2.imwrite(\"../images/diff.png\", diff )\n",
    "    print('differences stored in diff.png')"
   ]
  },
  {
   "cell_type": "code",
   "execution_count": 1,
   "metadata": {},
   "outputs": [
    {
     "name": "stdout",
     "output_type": "stream",
     "text": [
      "199 115\n"
     ]
    }
   ],
   "source": [
    "import cv2\n",
    "def find_LoL_subimage(subimage, webpage_ss):\n",
    "\n",
    "    method = cv2.TM_SQDIFF_NORMED\n",
    "\n",
    "    # Read the images from the file\n",
    "    small_image = cv2.imread(subimage)\n",
    "    large_image = cv2.imread(webpage_ss)\n",
    "\n",
    "    result = cv2.matchTemplate(small_image, large_image, method)\n",
    "\n",
    "    # We want the minimum squared difference\n",
    "    mn,_,mnLoc,_ = cv2.minMaxLoc(result)\n",
    "\n",
    "    # Draw the rectangle:\n",
    "    # Extract the coordinates of our best match\n",
    "    MPx,MPy = mnLoc\n",
    "    \n",
    "    return MPx, MPy\n",
    "\n",
    "MPx, MPy = find_LoL_subimage(subimage='../images/LoL.PNG', webpage_ss='../images/initial_state.png')\n",
    "print(MPx, MPy)"
   ]
  },
  {
   "cell_type": "code",
   "execution_count": null,
   "metadata": {},
   "outputs": [],
   "source": [
    "import cv2 \n"
   ]
  }
 ],
 "metadata": {
  "kernelspec": {
   "display_name": "Python 3.9.10 64-bit",
   "language": "python",
   "name": "python3"
  },
  "language_info": {
   "codemirror_mode": {
    "name": "ipython",
    "version": 3
   },
   "file_extension": ".py",
   "mimetype": "text/x-python",
   "name": "python",
   "nbconvert_exporter": "python",
   "pygments_lexer": "ipython3",
   "version": "3.9.10"
  },
  "orig_nbformat": 4,
  "vscode": {
   "interpreter": {
    "hash": "e011ff45b026eeda34f61f1af40e8d10c36da8bcb30013a241d98cbe0fa4d907"
   }
  }
 },
 "nbformat": 4,
 "nbformat_minor": 2
}
